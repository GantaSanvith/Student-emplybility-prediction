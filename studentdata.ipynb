{
 "cells": [
  {
   "cell_type": "code",
   "execution_count": 54,
   "id": "a88eef09-6e39-4a39-a483-7f715e373116",
   "metadata": {
    "tags": []
   },
   "outputs": [],
   "source": [
    "#https://sparkbyexamples.com/pandas/pandas-dataframe-where-examples/\n",
    "import pandas as pd\n",
    "import numpy as np\n",
    "import matplotlib.pyplot as plt\n",
    "from sklearn.model_selection import train_test_split\n",
    "from sklearn.feature_extraction.text import TfidfVectorizer\n",
    "import itertools\n",
    "from sklearn.naive_bayes import MultinomialNB\n",
    "from sklearn import metrics\n",
    "from sklearn.linear_model import PassiveAggressiveClassifier\n",
    "import os\n",
    "\n",
    "import seaborn as sns\n",
    "from sklearn.linear_model import LogisticRegression\n",
    "from sklearn.svm import SVC\n",
    "from sklearn.tree import DecisionTreeClassifier\n",
    "from sklearn.neighbors import KNeighborsClassifier\n",
    "from sklearn.model_selection import train_test_split\n",
    "from sklearn.metrics import confusion_matrix"
   ]
  },
  {
   "cell_type": "code",
   "execution_count": 55,
   "id": "914c434c-3d23-40a2-9f6d-737d5cbf0cbe",
   "metadata": {
    "tags": []
   },
   "outputs": [
    {
     "name": "stdout",
     "output_type": "stream",
     "text": [
      "0      CSE \n",
      "1      CSE \n",
      "2      CSE \n",
      "3      CSE \n",
      "4      CSE \n",
      "       ... \n",
      "142     ECE\n",
      "143     ECE\n",
      "144       0\n",
      "145       0\n",
      "146       0\n",
      "Name: BRANCH, Length: 147, dtype: object\n"
     ]
    }
   ],
   "source": [
    "df = pd.read_csv('C:/Users/DELL/Desktop/jobmela/studentdata.csv')\n",
    "df=df.fillna(0)\n",
    "df['BRANCH1']=df['BRANCH'].value_counts()\n",
    "print(df['BRANCH'])"
   ]
  },
  {
   "cell_type": "code",
   "execution_count": 56,
   "id": "da583864-9a91-4df0-befa-2862e0e11ed3",
   "metadata": {
    "tags": []
   },
   "outputs": [
    {
     "name": "stdout",
     "output_type": "stream",
     "text": [
      "(array([0], dtype=int64),)\n"
     ]
    },
    {
     "data": {
      "text/html": [
       "<div>\n",
       "<style scoped>\n",
       "    .dataframe tbody tr th:only-of-type {\n",
       "        vertical-align: middle;\n",
       "    }\n",
       "\n",
       "    .dataframe tbody tr th {\n",
       "        vertical-align: top;\n",
       "    }\n",
       "\n",
       "    .dataframe thead th {\n",
       "        text-align: right;\n",
       "    }\n",
       "</style>\n",
       "<table border=\"1\" class=\"dataframe\">\n",
       "  <thead>\n",
       "    <tr style=\"text-align: right;\">\n",
       "      <th></th>\n",
       "      <th>SL NO</th>\n",
       "      <th>ROLL NO</th>\n",
       "      <th>STUDENT NAME</th>\n",
       "      <th>BRANCH</th>\n",
       "      <th>GENDER</th>\n",
       "      <th>FATHERS NAME</th>\n",
       "      <th>D O B</th>\n",
       "      <th>SSC%</th>\n",
       "      <th>INTER%</th>\n",
       "      <th>B.TECH%</th>\n",
       "      <th>...</th>\n",
       "      <th>OFFICIAL EMAIL ID</th>\n",
       "      <th>PERSONAL EMAIL ID</th>\n",
       "      <th>PLACED/Not Selected</th>\n",
       "      <th>INTERNSHIPS</th>\n",
       "      <th>PROJECTS_DONE</th>\n",
       "      <th>EXTRA_CIRCULARS</th>\n",
       "      <th>CERTIFICATIONS</th>\n",
       "      <th>Unnamed: 19</th>\n",
       "      <th>Unnamed: 20</th>\n",
       "      <th>BRANCH1</th>\n",
       "    </tr>\n",
       "  </thead>\n",
       "  <tbody>\n",
       "    <tr>\n",
       "      <th>0</th>\n",
       "      <td>1.0</td>\n",
       "      <td>19R11A0505</td>\n",
       "      <td>Mr. DUGGIRALA HIMAA SAMIIRR</td>\n",
       "      <td>CSE</td>\n",
       "      <td>Male</td>\n",
       "      <td>duggiralavenugopalrao</td>\n",
       "      <td>14-05-2002</td>\n",
       "      <td>73</td>\n",
       "      <td>70.5</td>\n",
       "      <td>70.0</td>\n",
       "      <td>...</td>\n",
       "      <td>19r11a0505@gcet.edu.in</td>\n",
       "      <td>duggiralahimaasameer@gmail.com</td>\n",
       "      <td>Placed</td>\n",
       "      <td>Done</td>\n",
       "      <td>Yes</td>\n",
       "      <td>Music</td>\n",
       "      <td>AI</td>\n",
       "      <td>0.0</td>\n",
       "      <td>0.0</td>\n",
       "      <td>3.0</td>\n",
       "    </tr>\n",
       "  </tbody>\n",
       "</table>\n",
       "<p>1 rows × 22 columns</p>\n",
       "</div>"
      ],
      "text/plain": [
       "   SL NO     ROLL NO                 STUDENT NAME BRANCH GENDER  \\\n",
       "0    1.0  19R11A0505  Mr. DUGGIRALA HIMAA SAMIIRR   CSE    Male   \n",
       "\n",
       "            FATHERS NAME       D O B SSC%  INTER%  B.TECH%  ...  \\\n",
       "0  duggiralavenugopalrao  14-05-2002   73    70.5     70.0  ...   \n",
       "\n",
       "        OFFICIAL EMAIL ID                PERSONAL EMAIL ID  \\\n",
       "0  19r11a0505@gcet.edu.in  duggiralahimaasameer@gmail.com    \n",
       "\n",
       "  PLACED/Not Selected INTERNSHIPS PROJECTS_DONE EXTRA_CIRCULARS  \\\n",
       "0              Placed        Done           Yes           Music   \n",
       "\n",
       "  CERTIFICATIONS Unnamed: 19 Unnamed: 20  BRANCH1  \n",
       "0             AI         0.0         0.0      3.0  \n",
       "\n",
       "[1 rows x 22 columns]"
      ]
     },
     "metadata": {},
     "output_type": "display_data"
    },
    {
     "data": {
      "text/plain": [
       "SL NO                  1\n",
       "ROLL NO                1\n",
       "STUDENT NAME           1\n",
       "BRANCH                 1\n",
       "GENDER                 1\n",
       "FATHERS NAME           1\n",
       "D O B                  1\n",
       "SSC%                   1\n",
       "INTER%                 1\n",
       "B.TECH%                1\n",
       "ACTIVE_Backlogs        1\n",
       "CONTACT NO             1\n",
       "OFFICIAL EMAIL ID      1\n",
       "PERSONAL EMAIL ID      1\n",
       "PLACED/Not Selected    1\n",
       "INTERNSHIPS            1\n",
       "PROJECTS_DONE          1\n",
       "EXTRA_CIRCULARS        1\n",
       "CERTIFICATIONS         1\n",
       "Unnamed: 19            1\n",
       "Unnamed: 20            1\n",
       "BRANCH1                1\n",
       "dtype: int64"
      ]
     },
     "metadata": {},
     "output_type": "display_data"
    }
   ],
   "source": [
    "filtered_values = np.where((df['BRANCH'].str.contains('CSE')) & (df['ACTIVE_Backlogs']==0)&(df['CERTIFICATIONS'].str.contains('AI'))&(df['EXTRA_CIRCULARS'].str.contains('Music'))&(df['PROJECTS_DONE'].str.contains('Yes')) )\n",
    "print(filtered_values)         \n",
    "display(df.loc[filtered_values])  \n",
    "display(df.loc[filtered_values].count())"
   ]
  },
  {
   "cell_type": "code",
   "execution_count": 57,
   "id": "f4632b98-ec67-451a-99e5-c1f1ce2754b1",
   "metadata": {
    "tags": []
   },
   "outputs": [
    {
     "name": "stdout",
     "output_type": "stream",
     "text": [
      "confusion matrix\n",
      "[[22  1]\n",
      " [ 5  1]]\n",
      "['Not Selected' 'Not Selected' 'Not Selected' 'Not Selected'\n",
      " 'Not Selected' 'Not Selected' 'Placed' 'Not Selected' 'Not Selected'\n",
      " 'Not Selected' 'Not Selected' 'Not Selected' 'Not Selected' 'Placed'\n",
      " 'Not Selected' 'Not Selected' 'Not Selected' 'Not Selected'\n",
      " 'Not Selected' 'Not Selected' 'Not Selected' 'Not Selected'\n",
      " 'Not Selected' 'Not Selected' 'Not Selected' 'Not Selected'\n",
      " 'Not Selected' 'Not Selected' 'Not Selected']\n",
      "accuracy\n",
      "0.7931034482758621\n"
     ]
    },
    {
     "name": "stderr",
     "output_type": "stream",
     "text": [
      "c:\\users\\dell\\appdata\\local\\programs\\python\\python37\\lib\\site-packages\\sklearn\\linear_model\\logistic.py:432: FutureWarning: Default solver will be changed to 'lbfgs' in 0.22. Specify a solver to silence this warning.\n",
      "  FutureWarning)\n",
      "c:\\users\\dell\\appdata\\local\\programs\\python\\python37\\lib\\site-packages\\sklearn\\utils\\validation.py:724: DataConversionWarning: A column-vector y was passed when a 1d array was expected. Please change the shape of y to (n_samples, ), for example using ravel().\n",
      "  y = column_or_1d(y, warn=True)\n"
     ]
    }
   ],
   "source": [
    "df1 = pd.read_csv('C:/Users/DELL/Desktop/jobmela/studentdata1.csv')\n",
    "df1=df1.fillna(0)\n",
    "from sklearn.preprocessing import LabelEncoder\n",
    "le = LabelEncoder()\n",
    "df1.BRANCH = le.fit_transform(df1.BRANCH)\n",
    "df1.GENDER = le.fit_transform(df1.GENDER)\n",
    "df1.ACTIVE_Backlogs = le.fit_transform(df1.ACTIVE_Backlogs)\n",
    "df1.INTERNSHIPS = le.fit_transform(df1.INTERNSHIPS)\n",
    "df1.PROJECTS_DONE = le.fit_transform(df1.PROJECTS_DONE)\n",
    "df1.EXTRA_CIRCULARS = le.fit_transform(df1.EXTRA_CIRCULARS)\n",
    "df1.CERTIFICATIONS = le.fit_transform(df1.CERTIFICATIONS)\n",
    "\n",
    "\n",
    "\n",
    "X1 = df1[['BRANCH','GENDER','ACTIVE_Backlogs','INTERNSHIPS','PROJECTS_DONE','EXTRA_CIRCULARS','CERTIFICATIONS']].values\n",
    "X1\n",
    "y1 = df1[['PLACED_OR_NOT_PLACED']]\n",
    "y1\n",
    "from sklearn.linear_model import LogisticRegression\n",
    "\n",
    "X_train,X_test,y_train,y_test = train_test_split(X1,y1,test_size = 0.2)\n",
    "from sklearn import linear_model\n",
    "linear_clf = LogisticRegression()\n",
    "linear_clf.fit(X_train, y_train)\n",
    "pred = linear_clf.predict(X_test)\n",
    "from sklearn.metrics import confusion_matrix\n",
    "from sklearn.metrics import accuracy_score\n",
    "print('confusion matrix')\n",
    "print(confusion_matrix(y_test, pred))\n",
    "#pred1 = linear_clf.predict(atest)\n",
    "print(pred)\n",
    "#print(pred1)\n",
    "from sklearn.metrics import accuracy_score\n",
    "print('accuracy')\n",
    "print(accuracy_score(y_test, pred))\n"
   ]
  },
  {
   "cell_type": "code",
   "execution_count": 58,
   "id": "a8e2369e-9a7f-4d56-915c-9a2b3051cf9e",
   "metadata": {
    "tags": []
   },
   "outputs": [
    {
     "name": "stdout",
     "output_type": "stream",
     "text": [
      "confusion matrix\n",
      "[[20 10]\n",
      " [ 8  6]]\n",
      "['Not Selected' 'Placed' 'Placed' 'Placed' 'Not Selected' 'Placed'\n",
      " 'Not Selected' 'Not Selected' 'Not Selected' 'Not Selected'\n",
      " 'Not Selected' 'Not Selected' 'Not Selected' 'Not Selected'\n",
      " 'Not Selected' 'Not Selected' 'Not Selected' 'Placed' 'Placed' 'Placed'\n",
      " 'Placed' 'Not Selected' 'Not Selected' 'Not Selected' 'Placed'\n",
      " 'Not Selected' 'Not Selected' 'Placed' 'Not Selected' 'Not Selected'\n",
      " 'Not Selected' 'Placed' 'Not Selected' 'Not Selected' 'Not Selected'\n",
      " 'Placed' 'Placed' 'Placed' 'Placed' 'Not Selected' 'Not Selected'\n",
      " 'Placed' 'Not Selected' 'Not Selected']\n",
      "accuracy\n",
      "0.5909090909090909\n"
     ]
    }
   ],
   "source": [
    "from sklearn.tree import DecisionTreeClassifier\n",
    "X_train,X_test,y_train,y_test = train_test_split(X1,y1,test_size = 0.3)\n",
    "from sklearn import linear_model\n",
    "linear_clf = DecisionTreeClassifier()\n",
    "linear_clf.fit(X_train, y_train)\n",
    "pred = linear_clf.predict(X_test)\n",
    "from sklearn.metrics import confusion_matrix\n",
    "from sklearn.metrics import accuracy_score\n",
    "print('confusion matrix')\n",
    "print(confusion_matrix(y_test, pred))\n",
    "#pred1 = linear_clf.predict(atest)\n",
    "print(pred)\n",
    "#print(pred1)\n",
    "from sklearn.metrics import accuracy_score\n",
    "print('accuracy')\n",
    "print(accuracy_score(y_test, pred))\n"
   ]
  },
  {
   "cell_type": "code",
   "execution_count": 59,
   "id": "74a1ea47-6d3d-4dbd-9991-862d45f094a6",
   "metadata": {
    "tags": []
   },
   "outputs": [
    {
     "name": "stderr",
     "output_type": "stream",
     "text": [
      "c:\\users\\dell\\appdata\\local\\programs\\python\\python37\\lib\\site-packages\\ipykernel_launcher.py:5: DataConversionWarning: A column-vector y was passed when a 1d array was expected. Please change the shape of y to (n_samples,), for example using ravel().\n",
      "  \"\"\"\n",
      "c:\\users\\dell\\appdata\\local\\programs\\python\\python37\\lib\\site-packages\\sklearn\\utils\\fixes.py:230: DeprecationWarning: distutils Version classes are deprecated. Use packaging.version instead.\n",
      "  if _joblib.__version__ >= LooseVersion('0.12'):\n"
     ]
    },
    {
     "name": "stdout",
     "output_type": "stream",
     "text": [
      "confusion matrix\n",
      "[[28  2]\n",
      " [ 9  5]]\n",
      "['Not Selected' 'Not Selected' 'Not Selected' 'Not Selected'\n",
      " 'Not Selected' 'Not Selected' 'Not Selected' 'Not Selected'\n",
      " 'Not Selected' 'Not Selected' 'Not Selected' 'Not Selected'\n",
      " 'Not Selected' 'Not Selected' 'Not Selected' 'Not Selected' 'Placed'\n",
      " 'Not Selected' 'Placed' 'Not Selected' 'Not Selected' 'Not Selected'\n",
      " 'Not Selected' 'Not Selected' 'Not Selected' 'Not Selected'\n",
      " 'Not Selected' 'Not Selected' 'Not Selected' 'Not Selected'\n",
      " 'Not Selected' 'Not Selected' 'Not Selected' 'Not Selected' 'Placed'\n",
      " 'Not Selected' 'Placed' 'Placed' 'Not Selected' 'Placed' 'Placed'\n",
      " 'Not Selected' 'Not Selected' 'Not Selected']\n",
      "accuracy\n",
      "0.75\n"
     ]
    },
    {
     "name": "stderr",
     "output_type": "stream",
     "text": [
      "c:\\users\\dell\\appdata\\local\\programs\\python\\python37\\lib\\site-packages\\sklearn\\utils\\fixes.py:230: DeprecationWarning: distutils Version classes are deprecated. Use packaging.version instead.\n",
      "  if _joblib.__version__ >= LooseVersion('0.12'):\n"
     ]
    }
   ],
   "source": [
    "from sklearn.ensemble import RandomForestClassifier\n",
    "linear_clf = RandomForestClassifier(n_estimators = 300, random_state = 0)\n",
    "X_train,X_test,y_train,y_test = train_test_split(X1,y1,test_size = 0.3)\n",
    "\n",
    "linear_clf.fit(X_train, y_train)\n",
    "pred = linear_clf.predict(X_test)\n",
    "from sklearn.metrics import confusion_matrix\n",
    "from sklearn.metrics import accuracy_score\n",
    "print('confusion matrix')\n",
    "print(confusion_matrix(y_test, pred))\n",
    "#pred1 = linear_clf.predict(atest)\n",
    "print(pred)\n",
    "#print(pred1)\n",
    "from sklearn.metrics import accuracy_score\n",
    "print('accuracy')\n",
    "print(accuracy_score(y_test, pred))"
   ]
  },
  {
   "cell_type": "code",
   "execution_count": 60,
   "id": "5ec4bc4f-e8ba-4453-8f4a-d158d0d0d241",
   "metadata": {
    "tags": []
   },
   "outputs": [
    {
     "name": "stderr",
     "output_type": "stream",
     "text": [
      "c:\\users\\dell\\appdata\\local\\programs\\python\\python37\\lib\\site-packages\\sklearn\\neighbors\\base.py:441: DeprecationWarning: distutils Version classes are deprecated. Use packaging.version instead.\n",
      "  old_joblib = LooseVersion(joblib_version) < LooseVersion('0.12')\n",
      "c:\\users\\dell\\appdata\\local\\programs\\python\\python37\\lib\\site-packages\\sklearn\\neighbors\\base.py:441: DeprecationWarning: distutils Version classes are deprecated. Use packaging.version instead.\n",
      "  old_joblib = LooseVersion(joblib_version) < LooseVersion('0.12')\n"
     ]
    },
    {
     "ename": "TypeError",
     "evalue": "unsupported operand type(s) for /: 'str' and 'int'",
     "output_type": "error",
     "traceback": [
      "\u001b[1;31m---------------------------------------------------------------------------\u001b[0m",
      "\u001b[1;31mTypeError\u001b[0m                                 Traceback (most recent call last)",
      "\u001b[1;32m~\\AppData\\Local\\Temp\\ipykernel_6864\\3940523676.py\u001b[0m in \u001b[0;36m<module>\u001b[1;34m\u001b[0m\n\u001b[0;32m      5\u001b[0m \u001b[1;33m\u001b[0m\u001b[0m\n\u001b[0;32m      6\u001b[0m \u001b[0mlinear_clf1\u001b[0m\u001b[1;33m.\u001b[0m\u001b[0mfit\u001b[0m\u001b[1;33m(\u001b[0m\u001b[0mX_train\u001b[0m\u001b[1;33m,\u001b[0m \u001b[0my_train\u001b[0m\u001b[1;33m)\u001b[0m\u001b[1;33m\u001b[0m\u001b[0m\n\u001b[1;32m----> 7\u001b[1;33m \u001b[0mpred\u001b[0m \u001b[1;33m=\u001b[0m \u001b[0mlinear_clf1\u001b[0m\u001b[1;33m.\u001b[0m\u001b[0mpredict\u001b[0m\u001b[1;33m(\u001b[0m\u001b[0mX_test\u001b[0m\u001b[1;33m)\u001b[0m\u001b[1;33m\u001b[0m\u001b[0m\n\u001b[0m\u001b[0;32m      8\u001b[0m \u001b[1;32mfrom\u001b[0m \u001b[0msklearn\u001b[0m\u001b[1;33m.\u001b[0m\u001b[0mmetrics\u001b[0m \u001b[1;32mimport\u001b[0m \u001b[0mconfusion_matrix\u001b[0m\u001b[1;33m\u001b[0m\u001b[0m\n\u001b[0;32m      9\u001b[0m \u001b[1;32mfrom\u001b[0m \u001b[0msklearn\u001b[0m\u001b[1;33m.\u001b[0m\u001b[0mmetrics\u001b[0m \u001b[1;32mimport\u001b[0m \u001b[0maccuracy_score\u001b[0m\u001b[1;33m\u001b[0m\u001b[0m\n",
      "\u001b[1;32mc:\\users\\dell\\appdata\\local\\programs\\python\\python37\\lib\\site-packages\\sklearn\\neighbors\\regression.py\u001b[0m in \u001b[0;36mpredict\u001b[1;34m(self, X)\u001b[0m\n\u001b[0;32m    164\u001b[0m \u001b[1;33m\u001b[0m\u001b[0m\n\u001b[0;32m    165\u001b[0m         \u001b[1;32mif\u001b[0m \u001b[0mweights\u001b[0m \u001b[1;32mis\u001b[0m \u001b[1;32mNone\u001b[0m\u001b[1;33m:\u001b[0m\u001b[1;33m\u001b[0m\u001b[0m\n\u001b[1;32m--> 166\u001b[1;33m             \u001b[0my_pred\u001b[0m \u001b[1;33m=\u001b[0m \u001b[0mnp\u001b[0m\u001b[1;33m.\u001b[0m\u001b[0mmean\u001b[0m\u001b[1;33m(\u001b[0m\u001b[0m_y\u001b[0m\u001b[1;33m[\u001b[0m\u001b[0mneigh_ind\u001b[0m\u001b[1;33m]\u001b[0m\u001b[1;33m,\u001b[0m \u001b[0maxis\u001b[0m\u001b[1;33m=\u001b[0m\u001b[1;36m1\u001b[0m\u001b[1;33m)\u001b[0m\u001b[1;33m\u001b[0m\u001b[0m\n\u001b[0m\u001b[0;32m    167\u001b[0m         \u001b[1;32melse\u001b[0m\u001b[1;33m:\u001b[0m\u001b[1;33m\u001b[0m\u001b[0m\n\u001b[0;32m    168\u001b[0m             \u001b[0my_pred\u001b[0m \u001b[1;33m=\u001b[0m \u001b[0mnp\u001b[0m\u001b[1;33m.\u001b[0m\u001b[0mempty\u001b[0m\u001b[1;33m(\u001b[0m\u001b[1;33m(\u001b[0m\u001b[0mX\u001b[0m\u001b[1;33m.\u001b[0m\u001b[0mshape\u001b[0m\u001b[1;33m[\u001b[0m\u001b[1;36m0\u001b[0m\u001b[1;33m]\u001b[0m\u001b[1;33m,\u001b[0m \u001b[0m_y\u001b[0m\u001b[1;33m.\u001b[0m\u001b[0mshape\u001b[0m\u001b[1;33m[\u001b[0m\u001b[1;36m1\u001b[0m\u001b[1;33m]\u001b[0m\u001b[1;33m)\u001b[0m\u001b[1;33m,\u001b[0m \u001b[0mdtype\u001b[0m\u001b[1;33m=\u001b[0m\u001b[0mnp\u001b[0m\u001b[1;33m.\u001b[0m\u001b[0mfloat64\u001b[0m\u001b[1;33m)\u001b[0m\u001b[1;33m\u001b[0m\u001b[0m\n",
      "\u001b[1;32m<__array_function__ internals>\u001b[0m in \u001b[0;36mmean\u001b[1;34m(*args, **kwargs)\u001b[0m\n",
      "\u001b[1;32mc:\\users\\dell\\appdata\\local\\programs\\python\\python37\\lib\\site-packages\\numpy\\core\\fromnumeric.py\u001b[0m in \u001b[0;36mmean\u001b[1;34m(a, axis, dtype, out, keepdims)\u001b[0m\n\u001b[0;32m   3333\u001b[0m \u001b[1;33m\u001b[0m\u001b[0m\n\u001b[0;32m   3334\u001b[0m     return _methods._mean(a, axis=axis, dtype=dtype,\n\u001b[1;32m-> 3335\u001b[1;33m                           out=out, **kwargs)\n\u001b[0m\u001b[0;32m   3336\u001b[0m \u001b[1;33m\u001b[0m\u001b[0m\n\u001b[0;32m   3337\u001b[0m \u001b[1;33m\u001b[0m\u001b[0m\n",
      "\u001b[1;32mc:\\users\\dell\\appdata\\local\\programs\\python\\python37\\lib\\site-packages\\numpy\\core\\_methods.py\u001b[0m in \u001b[0;36m_mean\u001b[1;34m(a, axis, dtype, out, keepdims)\u001b[0m\n\u001b[0;32m    152\u001b[0m     \u001b[1;32mif\u001b[0m \u001b[0misinstance\u001b[0m\u001b[1;33m(\u001b[0m\u001b[0mret\u001b[0m\u001b[1;33m,\u001b[0m \u001b[0mmu\u001b[0m\u001b[1;33m.\u001b[0m\u001b[0mndarray\u001b[0m\u001b[1;33m)\u001b[0m\u001b[1;33m:\u001b[0m\u001b[1;33m\u001b[0m\u001b[0m\n\u001b[0;32m    153\u001b[0m         ret = um.true_divide(\n\u001b[1;32m--> 154\u001b[1;33m                 ret, rcount, out=ret, casting='unsafe', subok=False)\n\u001b[0m\u001b[0;32m    155\u001b[0m         \u001b[1;32mif\u001b[0m \u001b[0mis_float16_result\u001b[0m \u001b[1;32mand\u001b[0m \u001b[0mout\u001b[0m \u001b[1;32mis\u001b[0m \u001b[1;32mNone\u001b[0m\u001b[1;33m:\u001b[0m\u001b[1;33m\u001b[0m\u001b[0m\n\u001b[0;32m    156\u001b[0m             \u001b[0mret\u001b[0m \u001b[1;33m=\u001b[0m \u001b[0marr\u001b[0m\u001b[1;33m.\u001b[0m\u001b[0mdtype\u001b[0m\u001b[1;33m.\u001b[0m\u001b[0mtype\u001b[0m\u001b[1;33m(\u001b[0m\u001b[0mret\u001b[0m\u001b[1;33m)\u001b[0m\u001b[1;33m\u001b[0m\u001b[0m\n",
      "\u001b[1;31mTypeError\u001b[0m: unsupported operand type(s) for /: 'str' and 'int'"
     ]
    }
   ],
   "source": [
    "from sklearn.neighbors import KNeighborsClassifier\n",
    "linear_clf1 = KNeighborsClassifier(n_neighbors=2)\n",
    "\n",
    "X_train,X_test,y_train,y_test = train_test_split(X1,y1,test_size = 0.3)\n",
    "\n",
    "linear_clf1.fit(X_train, y_train)\n",
    "pred = linear_clf1.predict(X_test)\n",
    "from sklearn.metrics import confusion_matrix\n",
    "from sklearn.metrics import accuracy_score\n",
    "print('confusion matrix')\n",
    "print(confusion_matrix(y_test, pred))\n",
    "#pred1 = linear_clf.predict(atest)\n",
    "print(pred)\n",
    "#print(pred1)\n",
    "from sklearn.metrics import accuracy_score\n",
    "print('accuracy')\n",
    "print(accuracy_score(y_test, pred))"
   ]
  },
  {
   "cell_type": "code",
   "execution_count": null,
   "id": "f1661eff-afb6-4343-8693-8ed36667a47b",
   "metadata": {},
   "outputs": [],
   "source": []
  }
 ],
 "metadata": {
  "kernelspec": {
   "display_name": "Python 3 (ipykernel)",
   "language": "python",
   "name": "python3"
  },
  "language_info": {
   "codemirror_mode": {
    "name": "ipython",
    "version": 3
   },
   "file_extension": ".py",
   "mimetype": "text/x-python",
   "name": "python",
   "nbconvert_exporter": "python",
   "pygments_lexer": "ipython3",
   "version": "3.7.0"
  }
 },
 "nbformat": 4,
 "nbformat_minor": 5
}
